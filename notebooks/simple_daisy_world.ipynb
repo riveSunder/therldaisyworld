{
 "cells": [
  {
   "cell_type": "code",
   "execution_count": null,
   "id": "02deac8a",
   "metadata": {},
   "outputs": [],
   "source": [
    "# simple daisy world (1983 model)\n",
    "\n",
    "import numpy as np\n",
    "import matplotlib.pyplot as plt\n",
    "\n",
    "import daisy\n",
    "from daisy.daisy_world_simple import SimpleDaisyWorld"
   ]
  },
  {
   "cell_type": "code",
   "execution_count": null,
   "id": "b7daa3ed",
   "metadata": {},
   "outputs": [],
   "source": [
    "# \n",
    "\n",
    "daisy_world = SimpleDaisyWorld()\n",
    "\n",
    "daisy_world.min_L = 0.55\n",
    "daisy_world.initial_L = daisy_world.min_L\n",
    "daisy_world.max_L = 2.0\n",
    "daisy_world.steps_per_period = 10000\n",
    "daisy_world.reset()\n",
    "daisy_world.run_sim()\n",
    "fig, ax = daisy_world.plot_curve(show_habitable=True)\n",
    "\n",
    "fig.suptitle(\"DaisyWorld\")\n",
    "plt.show()"
   ]
  },
  {
   "cell_type": "code",
   "execution_count": null,
   "id": "5eb4fa5f",
   "metadata": {},
   "outputs": [],
   "source": []
  }
 ],
 "metadata": {
  "kernelspec": {
   "display_name": "Python 3 (ipykernel)",
   "language": "python",
   "name": "python3"
  },
  "language_info": {
   "codemirror_mode": {
    "name": "ipython",
    "version": 3
   },
   "file_extension": ".py",
   "mimetype": "text/x-python",
   "name": "python",
   "nbconvert_exporter": "python",
   "pygments_lexer": "ipython3",
   "version": "3.8.0"
  }
 },
 "nbformat": 4,
 "nbformat_minor": 5
}
