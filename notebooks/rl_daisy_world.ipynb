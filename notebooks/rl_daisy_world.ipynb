{
 "cells": [
  {
   "cell_type": "code",
   "execution_count": null,
   "id": "d4c24571",
   "metadata": {},
   "outputs": [],
   "source": [
    "\n",
    "import numpy as np\n",
    "\n",
    "import matplotlib\n",
    "import matplotlib.pyplot as plt\n",
    "import matplotlib.animation\n",
    "matplotlib.rcParams[\"animation.embed_limit\"] = 256\n",
    "\n",
    "import IPython\n",
    "\n",
    "import daisy\n",
    "import daisy.daisy_world_rl\n",
    "from daisy.daisy_world_rl import RLDaisyWorld\n",
    "from daisy.agents.greedy import Greedy\n",
    "\n",
    "\n",
    "from daisy.daisy_world_simple import SimpleDaisyWorld\n",
    "\n",
    "#from daisy.agents.greedy import Greedy"
   ]
  },
  {
   "cell_type": "code",
   "execution_count": null,
   "id": "1437c84f",
   "metadata": {},
   "outputs": [],
   "source": [
    "# functions for animating daisyworld env\n",
    "from daisy.notebook_helpers import tensor_to_image,\\\n",
    "        plot_grid,\\\n",
    "        get_update_fig,\\\n",
    "        seed_all\n",
    "        \n",
    "my_seed = 42 "
   ]
  },
  {
   "cell_type": "code",
   "execution_count": null,
   "id": "ea36ef5f",
   "metadata": {},
   "outputs": [],
   "source": [
    "# DaisyWorld (Based on Watson and Lovelock 1983)\n",
    "\n",
    "matplotlib.rcParams[\"font.size\"] = 20\n",
    "daisy_world = SimpleDaisyWorld()\n",
    "\n",
    "daisy_world.min_L = 0.55\n",
    "daisy_world.initial_L = daisy_world.min_L\n",
    "daisy_world.max_L = 2.0\n",
    "daisy_world.steps_per_period = 10000\n",
    "daisy_world.reset()\n",
    "daisy_world.run_sim()\n",
    "fig, ax = daisy_world.plot_curve(show_habitable=True)\n",
    "\n",
    "fig.suptitle(\"DaisyWorld\", fontsize=22)\n",
    "plt.show()"
   ]
  },
  {
   "cell_type": "markdown",
   "id": "83248d6e",
   "metadata": {},
   "source": [
    "## Flatland DaisyWorld with light and dark daisies"
   ]
  },
  {
   "cell_type": "code",
   "execution_count": null,
   "id": "b6b94e0c",
   "metadata": {
    "scrolled": false
   },
   "outputs": [],
   "source": [
    "# light and dark daisies scenario\n",
    "# ad = 0.25; al = 0.75; ab = 0.5\n",
    "\n",
    "matplotlib.rcParams[\"font.size\"] = 10\n",
    "\n",
    "seed_all(my_seed*9)\n",
    "save_video = False #True\n",
    "\n",
    "env = daisy.daisy_world_rl.RLDaisyWorld(grid_dimension=8)\n",
    "env.dt = 1.0\n",
    "env.batch_size = 1\n",
    "obs = env.reset()\n",
    "\n",
    "num_frames = env.ramp_period \n",
    "interval = 40"
   ]
  },
  {
   "cell_type": "code",
   "execution_count": null,
   "id": "67f49f17",
   "metadata": {},
   "outputs": [],
   "source": [
    "if save_video:\n",
    "    \n",
    "    fig, ax = plot_grid(env)\n",
    "    \n",
    "    update_fig = get_update_fig(env, agent=None)\n",
    "    matplotlib.animation.FuncAnimation(fig, update_fig, \\\n",
    "                    frames=num_frames, interval=interval).save(\"flat_light_and_dark_000.mp4\")"
   ]
  },
  {
   "cell_type": "code",
   "execution_count": null,
   "id": "4b2a2183",
   "metadata": {},
   "outputs": [],
   "source": [
    "# run this cell for in-notebook animation\n",
    "fig, ax = plot_grid(env)\n",
    "update_fig = get_update_fig(env, agent=None)\n",
    "IPython.display.HTML(matplotlib.animation.FuncAnimation(fig, update_fig, \\\n",
    "                    frames=num_frames, interval=interval).to_jshtml())"
   ]
  },
  {
   "cell_type": "markdown",
   "id": "fbf46b4a",
   "metadata": {},
   "source": [
    "# Flatland DaisyWorld\n",
    "\n",
    "## With neutral daisies"
   ]
  },
  {
   "cell_type": "code",
   "execution_count": null,
   "id": "e774389a",
   "metadata": {},
   "outputs": [],
   "source": [
    "# neutral scenario, daisies and bare ground have albedo 0.5\n",
    "# ad = al = ab = 0.5\n",
    "\n",
    "seed_all(my_seed)\n",
    "save_video = False #True\n",
    "\n",
    "env = RLDaisyWorld()\n",
    "env.albedo_dark = env.albedo_bare\n",
    "env.albedo_light = env.albedo_bare\n",
    "env.reset()\n",
    "\n",
    "num_frames = env.ramp_period * 3\n",
    "interval = 40"
   ]
  },
  {
   "cell_type": "code",
   "execution_count": null,
   "id": "6cde7dd9",
   "metadata": {},
   "outputs": [],
   "source": [
    "if save_video:\n",
    "    \n",
    "    fig, ax = plot_grid(env)\n",
    "    update_fig = get_update_fig(env, agent=None)\n",
    "    matplotlib.animation.FuncAnimation(fig, update_fig, \\\n",
    "                    frames=num_frames, interval=interval).save(\"flat_neutral_000.mp4\")"
   ]
  },
  {
   "cell_type": "code",
   "execution_count": null,
   "id": "f71db9c8",
   "metadata": {},
   "outputs": [],
   "source": [
    "# run this cell for in-notebook animation\n",
    "\n",
    "fig, ax = plot_grid(env)\n",
    "\n",
    "update_fig = get_update_fig(env, agent=None)\n",
    "IPython.display.HTML(matplotlib.animation.FuncAnimation(fig, update_fig, \\\n",
    "                    frames=num_frames, interval=interval).to_jshtml())"
   ]
  },
  {
   "cell_type": "markdown",
   "id": "aaec9007",
   "metadata": {},
   "source": [
    "## Flatland DaisyWorld with light and dark daisies, greedy gobbler agent"
   ]
  },
  {
   "cell_type": "code",
   "execution_count": null,
   "id": "66092a11",
   "metadata": {},
   "outputs": [],
   "source": [
    "# light and dark daisies scenario\n",
    "# ad = 0.25; al = 0.75; ab = 0.5\n",
    "\n",
    "seed_all(my_seed)\n",
    "save_video = False #True\n",
    "\n",
    "env = RLDaisyWorld()\n",
    "env.batch_size = 1\n",
    "env.n_agents = 16\n",
    "env.dt = 1.0\n",
    "obs = env.reset()\n",
    "\n",
    "interval = 50\n",
    "num_frames = env.ramp_period \n",
    "\n",
    "agent = Greedy()"
   ]
  },
  {
   "cell_type": "code",
   "execution_count": null,
   "id": "8b55d12c",
   "metadata": {},
   "outputs": [],
   "source": [
    "if save_video:\n",
    "    \n",
    "    fig, ax = plot_grid(env)\n",
    "    update_fig = get_update_fig(env, agent=agent)\n",
    "    matplotlib.animation.FuncAnimation(fig, update_fig_agent, \\\n",
    "                    frames=num_frames, interval=interval).save(\"flat_neutral_000.mp4\")"
   ]
  },
  {
   "cell_type": "code",
   "execution_count": null,
   "id": "65ed9122",
   "metadata": {},
   "outputs": [],
   "source": [
    "fig, ax = plot_grid(env)\n",
    "\n",
    "\n",
    "update_fig = get_update_fig(env, agent=agent)\n",
    "IPython.display.HTML(matplotlib.animation.FuncAnimation(fig, update_fig, \\\n",
    "                    frames=num_frames, interval=interval).to_jshtml())"
   ]
  },
  {
   "cell_type": "code",
   "execution_count": null,
   "id": "efcdf44b",
   "metadata": {},
   "outputs": [],
   "source": [
    "import os\n",
    "import json\n",
    "\n",
    "from daisy.agents.mlp import MLP\n",
    "from daisy.agents.greedy import Greedy\n",
    "\n",
    "directory_filepath = \"../results/cmaes_exp_002\"\n",
    "best_agent = \"cmaes_exp_002_seed11_best_agent_gen127.json\"\n",
    "\n",
    "with open(os.path.join(directory_filepath, best_agent), \"r\") as f:\n",
    "    \n",
    "    my_agent = json.load(f)\n",
    "\n",
    "in_dim = my_agent[\"in_dim\"]\n",
    "out_dim = my_agent[\"out_dim\"]\n",
    "h_dim = my_agent[\"h_dim\"]\n",
    "\n",
    "params = np.array(my_agent[\"parameters\"])\n",
    "\n",
    "kwargs = my_agent\n",
    "agent = MLP(**kwargs)\n",
    "\n",
    "agent.set_parameters(params)\n",
    "# light and dark daisies scenario\n",
    "# ad = 0.25; al = 0.75; ab = 0.5\n",
    "\n",
    "seed_all(my_seed)\n",
    "save_video = False #True\n",
    "\n",
    "env = RLDaisyWorld()\n",
    "env.batch_size = 1\n",
    "env.n_agents = 16\n",
    "env.dt = 1.0\n",
    "obs = env.reset()\n",
    "\n",
    "interval = 50\n",
    "num_frames = env.ramp_period "
   ]
  },
  {
   "cell_type": "code",
   "execution_count": null,
   "id": "1a47b00d",
   "metadata": {},
   "outputs": [],
   "source": [
    "fig, ax = plot_grid(env)\n",
    "\n",
    "\n",
    "update_fig = get_update_fig(env, agent=agent)\n",
    "IPython.display.HTML(matplotlib.animation.FuncAnimation(fig, update_fig, \\\n",
    "                    frames=num_frames, interval=interval).to_jshtml())"
   ]
  },
  {
   "cell_type": "code",
   "execution_count": null,
   "id": "63a4a297",
   "metadata": {},
   "outputs": [],
   "source": []
  }
 ],
 "metadata": {
  "kernelspec": {
   "display_name": "Python 3 (ipykernel)",
   "language": "python",
   "name": "python3"
  },
  "language_info": {
   "codemirror_mode": {
    "name": "ipython",
    "version": 3
   },
   "file_extension": ".py",
   "mimetype": "text/x-python",
   "name": "python",
   "nbconvert_exporter": "python",
   "pygments_lexer": "ipython3",
   "version": "3.8.0"
  }
 },
 "nbformat": 4,
 "nbformat_minor": 5
}
